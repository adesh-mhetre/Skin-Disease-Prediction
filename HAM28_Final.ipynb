{
  "cells": [
    {
      "cell_type": "markdown",
      "metadata": {
        "colab_type": "text",
        "id": "view-in-github"
      },
      "source": [
        "<a href=\"https://colab.research.google.com/github/mittshah2/Skin-Disease-Prediction-Web-Application/blob/master/HAM28_Final.ipynb\" target=\"_parent\"><img src=\"https://colab.research.google.com/assets/colab-badge.svg\" alt=\"Open In Colab\"/></a>"
      ]
    },
    {
      "cell_type": "code",
      "execution_count": 4,
      "metadata": {
        "id": "C0l-8hJYSoDE"
      },
      "outputs": [],
      "source": [
        "import os\n",
        "import pandas as pd\n",
        "import numpy as np\n",
        "import matplotlib.pyplot as p\n",
        "import PIL as pil\n",
        "from tensorflow.keras.preprocessing.image import ImageDataGenerator\n",
        "from tensorflow.keras.utils import to_categorical\n",
        "from sklearn.model_selection import train_test_split\n",
        "import seaborn as sns\n"
      ]
    },
    {
      "cell_type": "code",
      "execution_count": 2,
      "metadata": {},
      "outputs": [
        {
          "name": "stdout",
          "output_type": "stream",
          "text": [
            "Defaulting to user installation because normal site-packages is not writeable\n",
            "Collecting seaborn\n",
            "  Downloading seaborn-0.12.2-py3-none-any.whl (293 kB)\n",
            "     -------------------------------------- 293.3/293.3 kB 4.6 MB/s eta 0:00:00\n",
            "Requirement already satisfied: numpy!=1.24.0,>=1.17 in c:\\users\\adesh\\appdata\\roaming\\python\\python39\\site-packages (from seaborn) (1.23.4)\n",
            "Requirement already satisfied: matplotlib!=3.6.1,>=3.1 in c:\\users\\adesh\\appdata\\roaming\\python\\python39\\site-packages (from seaborn) (3.7.1)\n",
            "Requirement already satisfied: pandas>=0.25 in c:\\users\\adesh\\appdata\\roaming\\python\\python39\\site-packages (from seaborn) (1.5.1)\n",
            "Requirement already satisfied: python-dateutil>=2.7 in c:\\users\\adesh\\appdata\\roaming\\python\\python39\\site-packages (from matplotlib!=3.6.1,>=3.1->seaborn) (2.8.2)\n",
            "Requirement already satisfied: kiwisolver>=1.0.1 in c:\\users\\adesh\\appdata\\roaming\\python\\python39\\site-packages (from matplotlib!=3.6.1,>=3.1->seaborn) (1.4.4)\n",
            "Requirement already satisfied: importlib-resources>=3.2.0 in c:\\users\\adesh\\appdata\\roaming\\python\\python39\\site-packages (from matplotlib!=3.6.1,>=3.1->seaborn) (5.12.0)\n",
            "Requirement already satisfied: packaging>=20.0 in c:\\users\\adesh\\appdata\\roaming\\python\\python39\\site-packages (from matplotlib!=3.6.1,>=3.1->seaborn) (21.3)\n",
            "Requirement already satisfied: contourpy>=1.0.1 in c:\\users\\adesh\\appdata\\roaming\\python\\python39\\site-packages (from matplotlib!=3.6.1,>=3.1->seaborn) (1.0.6)\n",
            "Requirement already satisfied: pillow>=6.2.0 in c:\\users\\adesh\\appdata\\roaming\\python\\python39\\site-packages (from matplotlib!=3.6.1,>=3.1->seaborn) (9.3.0)\n",
            "Requirement already satisfied: pyparsing>=2.3.1 in c:\\users\\adesh\\appdata\\roaming\\python\\python39\\site-packages (from matplotlib!=3.6.1,>=3.1->seaborn) (3.0.9)\n",
            "Requirement already satisfied: fonttools>=4.22.0 in c:\\users\\adesh\\appdata\\roaming\\python\\python39\\site-packages (from matplotlib!=3.6.1,>=3.1->seaborn) (4.38.0)\n",
            "Requirement already satisfied: cycler>=0.10 in c:\\users\\adesh\\appdata\\roaming\\python\\python39\\site-packages (from matplotlib!=3.6.1,>=3.1->seaborn) (0.11.0)\n",
            "Requirement already satisfied: pytz>=2020.1 in c:\\users\\adesh\\appdata\\roaming\\python\\python39\\site-packages (from pandas>=0.25->seaborn) (2022.6)\n",
            "Requirement already satisfied: zipp>=3.1.0 in c:\\users\\adesh\\appdata\\roaming\\python\\python39\\site-packages (from importlib-resources>=3.2.0->matplotlib!=3.6.1,>=3.1->seaborn) (3.10.0)\n",
            "Requirement already satisfied: six>=1.5 in c:\\users\\adesh\\appdata\\roaming\\python\\python39\\site-packages (from python-dateutil>=2.7->matplotlib!=3.6.1,>=3.1->seaborn) (1.16.0)\n",
            "Installing collected packages: seaborn\n",
            "Successfully installed seaborn-0.12.2\n",
            "Note: you may need to restart the kernel to use updated packages.\n"
          ]
        }
      ],
      "source": [
        "pip install seaborn"
      ]
    },
    {
      "cell_type": "markdown",
      "metadata": {
        "id": "rKjn6DvRjeRp"
      },
      "source": [
        "# **Visualising Dataset**"
      ]
    },
    {
      "cell_type": "code",
      "execution_count": 5,
      "metadata": {
        "colab": {
          "base_uri": "https://localhost:8080/",
          "height": 279
        },
        "id": "RK9Us_pIi7Yx",
        "outputId": "252df28e-b86b-4084-9748-41d74502bffb"
      },
      "outputs": [
        {
          "name": "stdout",
          "output_type": "stream",
          "text": [
            "<class 'pandas.core.frame.DataFrame'>\n",
            "RangeIndex: 10015 entries, 0 to 10014\n",
            "Data columns (total 7 columns):\n",
            " #   Column        Non-Null Count  Dtype  \n",
            "---  ------        --------------  -----  \n",
            " 0   lesion_id     10015 non-null  object \n",
            " 1   image_id      10015 non-null  object \n",
            " 2   dx            10015 non-null  object \n",
            " 3   dx_type       10015 non-null  object \n",
            " 4   age           9958 non-null   float64\n",
            " 5   sex           10015 non-null  object \n",
            " 6   localization  10015 non-null  object \n",
            "dtypes: float64(1), object(6)\n",
            "memory usage: 547.8+ KB\n"
          ]
        }
      ],
      "source": [
        "meta=pd.read_csv('C:/Users/adesh/Desktop/Skin-Disease-Prediction-Web-Application-master/HAM10000_metadata.csv')\n",
        "meta.info()"
      ]
    },
    {
      "cell_type": "code",
      "execution_count": 6,
      "metadata": {
        "colab": {
          "base_uri": "https://localhost:8080/",
          "height": 206
        },
        "id": "8jARRxg_ki6H",
        "outputId": "2f84baf1-fded-4485-8030-16984cc77f67"
      },
      "outputs": [
        {
          "data": {
            "text/html": [
              "<div>\n",
              "<style scoped>\n",
              "    .dataframe tbody tr th:only-of-type {\n",
              "        vertical-align: middle;\n",
              "    }\n",
              "\n",
              "    .dataframe tbody tr th {\n",
              "        vertical-align: top;\n",
              "    }\n",
              "\n",
              "    .dataframe thead th {\n",
              "        text-align: right;\n",
              "    }\n",
              "</style>\n",
              "<table border=\"1\" class=\"dataframe\">\n",
              "  <thead>\n",
              "    <tr style=\"text-align: right;\">\n",
              "      <th></th>\n",
              "      <th>lesion_id</th>\n",
              "      <th>image_id</th>\n",
              "      <th>dx</th>\n",
              "      <th>dx_type</th>\n",
              "      <th>age</th>\n",
              "      <th>sex</th>\n",
              "      <th>localization</th>\n",
              "    </tr>\n",
              "  </thead>\n",
              "  <tbody>\n",
              "    <tr>\n",
              "      <th>0</th>\n",
              "      <td>HAM_0000118</td>\n",
              "      <td>ISIC_0027419</td>\n",
              "      <td>bkl</td>\n",
              "      <td>histo</td>\n",
              "      <td>80.0</td>\n",
              "      <td>male</td>\n",
              "      <td>scalp</td>\n",
              "    </tr>\n",
              "    <tr>\n",
              "      <th>1</th>\n",
              "      <td>HAM_0000118</td>\n",
              "      <td>ISIC_0025030</td>\n",
              "      <td>bkl</td>\n",
              "      <td>histo</td>\n",
              "      <td>80.0</td>\n",
              "      <td>male</td>\n",
              "      <td>scalp</td>\n",
              "    </tr>\n",
              "    <tr>\n",
              "      <th>2</th>\n",
              "      <td>HAM_0002730</td>\n",
              "      <td>ISIC_0026769</td>\n",
              "      <td>bkl</td>\n",
              "      <td>histo</td>\n",
              "      <td>80.0</td>\n",
              "      <td>male</td>\n",
              "      <td>scalp</td>\n",
              "    </tr>\n",
              "    <tr>\n",
              "      <th>3</th>\n",
              "      <td>HAM_0002730</td>\n",
              "      <td>ISIC_0025661</td>\n",
              "      <td>bkl</td>\n",
              "      <td>histo</td>\n",
              "      <td>80.0</td>\n",
              "      <td>male</td>\n",
              "      <td>scalp</td>\n",
              "    </tr>\n",
              "    <tr>\n",
              "      <th>4</th>\n",
              "      <td>HAM_0001466</td>\n",
              "      <td>ISIC_0031633</td>\n",
              "      <td>bkl</td>\n",
              "      <td>histo</td>\n",
              "      <td>75.0</td>\n",
              "      <td>male</td>\n",
              "      <td>ear</td>\n",
              "    </tr>\n",
              "  </tbody>\n",
              "</table>\n",
              "</div>"
            ],
            "text/plain": [
              "     lesion_id      image_id   dx dx_type   age   sex localization\n",
              "0  HAM_0000118  ISIC_0027419  bkl   histo  80.0  male        scalp\n",
              "1  HAM_0000118  ISIC_0025030  bkl   histo  80.0  male        scalp\n",
              "2  HAM_0002730  ISIC_0026769  bkl   histo  80.0  male        scalp\n",
              "3  HAM_0002730  ISIC_0025661  bkl   histo  80.0  male        scalp\n",
              "4  HAM_0001466  ISIC_0031633  bkl   histo  75.0  male          ear"
            ]
          },
          "execution_count": 6,
          "metadata": {},
          "output_type": "execute_result"
        }
      ],
      "source": [
        "meta.head()"
      ]
    },
    {
      "cell_type": "code",
      "execution_count": 7,
      "metadata": {
        "colab": {
          "base_uri": "https://localhost:8080/",
          "height": 342
        },
        "id": "ZOJIdZPfjp6f",
        "outputId": "0b60e9b2-65dd-4539-eabf-0fc56498e2ae"
      },
      "outputs": [
        {
          "data": {
            "text/plain": [
              "<seaborn.axisgrid.FacetGrid at 0x207955eabb0>"
            ]
          },
          "execution_count": 7,
          "metadata": {},
          "output_type": "execute_result"
        },
        {
          "data": {
            "image/png": "[encoded data removed]",
            "text/plain": [
              "<Figure size 1600x500 with 1 Axes>"
            ]
          },
          "metadata": {},
          "output_type": "display_data"
        }
      ],
      "source": [
        "g = sns.catplot(x=\"dx\", kind=\"count\", palette='bright', data=meta)\n",
        "g.fig.set_size_inches(16, 5)\n",
        "\n",
        "g.ax.set_title('Skin Cancer by Class', fontsize=20)\n",
        "g.set_xlabels('Skin Cancer Class', fontsize=14)\n",
        "g.set_ylabels('Number of Data Points', fontsize=14)"
      ]
    },
    {
      "cell_type": "markdown",
      "metadata": {
        "id": "WiRSnm9ilibi"
      },
      "source": [
        "This graph shows the dataset has a major problem of class imbalance."
      ]
    },
    {
      "cell_type": "code",
      "execution_count": 8,
      "metadata": {
        "colab": {
          "base_uri": "https://localhost:8080/",
          "height": 316
        },
        "id": "HcJEZtJemamt",
        "outputId": "ddcc4f2d-fd4d-4e09-896b-160bbe3ea4be"
      },
      "outputs": [
        {
          "data": {
            "image/png": "[encoded data removed]",
            "text/plain": [
              "<Figure size 1600x500 with 1 Axes>"
            ]
          },
          "metadata": {},
          "output_type": "display_data"
        }
      ],
      "source": [
        "g = sns.catplot(x=\"dx\", kind=\"count\", hue=\"sex\", palette='coolwarm', data=meta)\n",
        "g.fig.set_size_inches(16, 5)\n",
        "\n",
        "g.ax.set_title('Skin Cancer by Sex', fontsize=20)\n",
        "g.set_xlabels('Skin Cancer Class', fontsize=14)\n",
        "g.set_ylabels('Number of Data Points', fontsize=14)\n",
        "g._legend.set_title('Sex')"
      ]
    },
    {
      "cell_type": "code",
      "execution_count": 9,
      "metadata": {
        "colab": {
          "base_uri": "https://localhost:8080/",
          "height": 511
        },
        "id": "bzS8LibJmptv",
        "outputId": "fb84b296-6a65-4e0a-d6fa-8c645a5e696a"
      },
      "outputs": [
        {
          "data": {
            "image/png": "[encoded data removed]",
            "text/plain": [
              "<Figure size 1600x900 with 1 Axes>"
            ]
          },
          "metadata": {},
          "output_type": "display_data"
        }
      ],
      "source": [
        "g = sns.catplot(x=\"dx\", kind=\"count\", hue=\"age\", palette='bright', data=meta)\n",
        "g.fig.set_size_inches(16, 9)\n",
        "\n",
        "g.ax.set_title('Skin Cancer by Age', fontsize=20)\n",
        "g.set_xlabels('Skin Cancer Class', fontsize=14)\n",
        "g.set_ylabels('Number of Data Points', fontsize=14)\n",
        "g._legend.set_title('Age')"
      ]
    },
    {
      "cell_type": "markdown",
      "metadata": {
        "id": "Fuq7F77qij5v"
      },
      "source": [
        "# **Extracting x and y from csv file**"
      ]
    },
    {
      "cell_type": "code",
      "execution_count": 12,
      "metadata": {
        "id": "tpUlT7hrSuGJ"
      },
      "outputs": [],
      "source": [
        "#df=pd.read_csv('drive/My Drive/HAM/ham28.csv')\n",
        "df=pd.read_csv('C:/Users/adesh/Desktop/Skin-Disease-Prediction-Web-Application-master/hmnist_28_28_RGB.csv')\n",
        "x=df.drop('label',axis=1)\n",
        "y=df['label']\n",
        "x=x.to_numpy()\n",
        "x=x/255\n",
        "y=to_categorical(y)"
      ]
    },
    {
      "cell_type": "code",
      "execution_count": 13,
      "metadata": {
        "colab": {
          "base_uri": "https://localhost:8080/",
          "height": 167
        },
        "id": "RZwBaTpLS_yC",
        "outputId": "546794bc-c93c-4570-c251-03be396c0aca"
      },
      "outputs": [
        {
          "data": {
            "text/plain": [
              "4    6705\n",
              "6    1113\n",
              "2    1099\n",
              "1     514\n",
              "0     327\n",
              "5     142\n",
              "3     115\n",
              "Name: label, dtype: int64"
            ]
          },
          "execution_count": 13,
          "metadata": {},
          "output_type": "execute_result"
        }
      ],
      "source": [
        "df['label'].value_counts()"
      ]
    },
    {
      "cell_type": "code",
      "execution_count": 14,
      "metadata": {
        "id": "Lf6SSTrphf6i"
      },
      "outputs": [],
      "source": [
        "label={\n",
        "    ' Actinic keratoses':0,\n",
        "    'Basal cell carcinoma':1,\n",
        "    'Benign keratosis-like lesions':2,\n",
        "    'Dermatofibroma':3,\n",
        "    'Melanocytic nevi':4,\n",
        "    'Melanoma':5,\n",
        "    'Vascular lesions':6\n",
        "}"
      ]
    },
    {
      "cell_type": "code",
      "execution_count": 15,
      "metadata": {
        "id": "Cq3JvtnGTS_e"
      },
      "outputs": [],
      "source": [
        "x=x.reshape(-1,28,28,3)"
      ]
    },
    {
      "cell_type": "markdown",
      "metadata": {
        "id": "CyXFB0oOm7wp"
      },
      "source": [
        "# **Spliiting into train test**"
      ]
    },
    {
      "cell_type": "code",
      "execution_count": 16,
      "metadata": {
        "id": "W36JI4DuXBPc"
      },
      "outputs": [],
      "source": [
        "xtrain,xtest,ytrain,ytest = train_test_split(x,y,test_size=0.1,random_state=13,stratify=df['label'])"
      ]
    },
    {
      "cell_type": "markdown",
      "metadata": {
        "id": "x_lo8S6AnF0H"
      },
      "source": [
        "# **Image augmentation**"
      ]
    },
    {
      "cell_type": "code",
      "execution_count": 17,
      "metadata": {
        "id": "C-Bk5I-XXQ3M"
      },
      "outputs": [],
      "source": [
        "datagen=ImageDataGenerator(rotation_range=20, # rotate the image 20 degrees\n",
        "                               width_shift_range=0.10, # Shift the pic width by a max of 5%\n",
        "                               height_shift_range=0.10, # Shift the pic height by a max of 5%\n",
        "                               rescale=1/255, # Rescale the image by normalzing it.\n",
        "                               shear_range=0.1, # Shear means cutting away part of the image (max 10%)\n",
        "                               zoom_range=0.1, # Zoom in by 10% max\n",
        "                               horizontal_flip=True,\n",
        "                               vertical_flip=True,\n",
        "                               fill_mode='nearest')"
      ]
    },
    {
      "cell_type": "code",
      "execution_count": 18,
      "metadata": {
        "id": "4lp-1rM8XZ4M"
      },
      "outputs": [],
      "source": [
        "datagen.fit(xtrain)"
      ]
    },
    {
      "cell_type": "markdown",
      "metadata": {
        "id": "wWDsBKvFm5IV"
      },
      "source": [
        "# **Model**"
      ]
    },
    {
      "cell_type": "code",
      "execution_count": 19,
      "metadata": {
        "id": "rK9FAP54Hv0x"
      },
      "outputs": [],
      "source": [
        "from tensorflow.keras.metrics import categorical_accuracy, top_k_categorical_accuracy\n",
        "def accuracy(y_true, y_pred):\n",
        "    return top_k_categorical_accuracy(y_true, y_pred, k=2)"
      ]
    },
    {
      "cell_type": "code",
      "execution_count": 22,
      "metadata": {
        "colab": {
          "base_uri": "https://localhost:8080/",
          "height": 877
        },
        "id": "FxNe2bZRXhoa",
        "outputId": "933ebd52-eeb0-4817-f65c-96791308a395"
      },
      "outputs": [
        {
          "name": "stdout",
          "output_type": "stream",
          "text": [
            "Model: \"sequential_2\"\n",
            "_________________________________________________________________\n",
            " Layer (type)                Output Shape              Param #   \n",
            "=================================================================\n",
            " conv2d_8 (Conv2D)           (None, 27, 27, 64)        832       \n",
            "                                                                 \n",
            " max_pooling2d_8 (MaxPooling  (None, 13, 13, 64)       0         \n",
            " 2D)                                                             \n",
            "                                                                 \n",
            " batch_normalization_8 (Batc  (None, 13, 13, 64)       256       \n",
            " hNormalization)                                                 \n",
            "                                                                 \n",
            " conv2d_9 (Conv2D)           (None, 12, 12, 512)       131584    \n",
            "                                                                 \n",
            " max_pooling2d_9 (MaxPooling  (None, 6, 6, 512)        0         \n",
            " 2D)                                                             \n",
            "                                                                 \n",
            " batch_normalization_9 (Batc  (None, 6, 6, 512)        2048      \n",
            " hNormalization)                                                 \n",
            "                                                                 \n",
            " dropout_8 (Dropout)         (None, 6, 6, 512)         0         \n",
            "                                                                 \n",
            " conv2d_10 (Conv2D)          (None, 5, 5, 1024)        2098176   \n",
            "                                                                 \n",
            " max_pooling2d_10 (MaxPoolin  (None, 2, 2, 1024)       0         \n",
            " g2D)                                                            \n",
            "                                                                 \n",
            " batch_normalization_10 (Bat  (None, 2, 2, 1024)       4096      \n",
            " chNormalization)                                                \n",
            "                                                                 \n",
            " dropout_9 (Dropout)         (None, 2, 2, 1024)        0         \n",
            "                                                                 \n",
            " conv2d_11 (Conv2D)          (None, 2, 2, 1024)        1049600   \n",
            "                                                                 \n",
            " max_pooling2d_11 (MaxPoolin  (None, 2, 2, 1024)       0         \n",
            " g2D)                                                            \n",
            "                                                                 \n",
            " batch_normalization_11 (Bat  (None, 2, 2, 1024)       4096      \n",
            " chNormalization)                                                \n",
            "                                                                 \n",
            " dropout_10 (Dropout)        (None, 2, 2, 1024)        0         \n",
            "                                                                 \n",
            " flatten_2 (Flatten)         (None, 4096)              0         \n",
            "                                                                 \n",
            " dense_4 (Dense)             (None, 256)               1048832   \n",
            "                                                                 \n",
            " dropout_11 (Dropout)        (None, 256)               0         \n",
            "                                                                 \n",
            " dense_5 (Dense)             (None, 7)                 1799      \n",
            "                                                                 \n",
            "=================================================================\n",
            "Total params: 4,341,319\n",
            "Trainable params: 4,336,071\n",
            "Non-trainable params: 5,248\n",
            "_________________________________________________________________\n"
          ]
        }
      ],
      "source": [
        "from tensorflow.keras.layers import Flatten,Dense,Dropout,BatchNormalization,Conv2D,MaxPooling2D\n",
        "from tensorflow.keras.models import Sequential\n",
        "from tensorflow.keras.metrics import Recall\n",
        "from tensorflow.keras.optimizers import RMSprop\n",
        "\n",
        "model=Sequential()\n",
        "\n",
        "model.add(Conv2D(64,(2,2),input_shape=(28,28,3),activation='relu'))\n",
        "model.add(MaxPooling2D(pool_size=(2, 2)))\n",
        "model.add(BatchNormalization())\n",
        "\n",
        "model.add(Conv2D(512,(2,2),input_shape=(28,28,3),activation='relu'))\n",
        "model.add(MaxPooling2D(pool_size=(2, 2)))\n",
        "model.add(BatchNormalization())\n",
        "\n",
        "model.add(Dropout(0.3))\n",
        "\n",
        "model.add(Conv2D(1024,(2,2),input_shape=(28,28,3),activation='relu'))\n",
        "model.add(MaxPooling2D(pool_size=(2, 2)))\n",
        "model.add(BatchNormalization())\n",
        "\n",
        "model.add(Dropout(0.3))\n",
        "\n",
        "model.add(Conv2D(1024,(1,1),input_shape=(28,28,3),activation='relu'))\n",
        "model.add(MaxPooling2D(pool_size=(1, 1)))\n",
        "model.add(BatchNormalization())\n",
        "\n",
        "model.add(Dropout(0.3))\n",
        "\n",
        "model.add(Flatten())\n",
        "\n",
        "model.add(Dense(256,activation='relu'))\n",
        "model.add(Dropout(0.5))\n",
        "\n",
        "\n",
        "model.add(Dense(7,activation='softmax'))\n",
        "\n",
        "model.compile(optimizer='adam',loss='categorical_crossentropy',metrics=[accuracy])\n",
        "\n",
        "model.summary()"
      ]
    },
    {
      "cell_type": "code",
      "execution_count": 23,
      "metadata": {
        "id": "rDKApIl3Zup6"
      },
      "outputs": [],
      "source": [
        "from tensorflow.keras.callbacks import EarlyStopping,ReduceLROnPlateau\n",
        "\n",
        "early=EarlyStopping(monitor='accuracy',patience=3)\n",
        "reduce_lr = ReduceLROnPlateau(monitor='accuracy', factor=0.5, patience=2, verbose=1, mode='min', min_lr=0.0001)"
      ]
    },
    {
      "cell_type": "markdown",
      "metadata": {
        "id": "Rq8E0DClnPzd"
      },
      "source": [
        "# **Training**"
      ]
    },
    {
      "cell_type": "code",
      "execution_count": 24,
      "metadata": {
        "id": "CNyQYcjcJZh2"
      },
      "outputs": [],
      "source": [
        "from tensorflow.keras.metrics import categorical_accuracy, top_k_categorical_accuracy\n",
        "def accuracy(y_true, y_pred):\n",
        "    return top_k_categorical_accuracy(y_true, y_pred, k=2)"
      ]
    },
    {
      "cell_type": "code",
      "execution_count": 25,
      "metadata": {
        "id": "IYNa6dMvwuzf"
      },
      "outputs": [],
      "source": [
        "class_weights={0:1,1:1,2:1,3:1,4:0.5,5:1,6:1}"
      ]
    },
    {
      "cell_type": "code",
      "execution_count": 26,
      "metadata": {
        "id": "LnHFC2AzYSND"
      },
      "outputs": [
        {
          "name": "stdout",
          "output_type": "stream",
          "text": [
            "Epoch 1/30\n",
            "282/282 [==============================] - 101s 353ms/step - loss: 1.0586 - accuracy: 0.7741 - val_loss: 2.3866 - val_accuracy: 0.1427 - lr: 0.0010\n",
            "Epoch 2/30\n",
            "282/282 [==============================] - 98s 346ms/step - loss: 0.7717 - accuracy: 0.8292 - val_loss: 1.6935 - val_accuracy: 0.6248 - lr: 0.0010\n",
            "Epoch 3/30\n",
            "282/282 [==============================] - ETA: 0s - loss: 0.6959 - accuracy: 0.8473\n",
            "Epoch 3: ReduceLROnPlateau reducing learning rate to 0.0005000000237487257.\n",
            "282/282 [==============================] - 99s 349ms/step - loss: 0.6959 - accuracy: 0.8473 - val_loss: 1.5378 - val_accuracy: 0.5589 - lr: 0.0010\n",
            "Epoch 4/30\n",
            "282/282 [==============================] - 99s 351ms/step - loss: 0.6285 - accuracy: 0.8666 - val_loss: 0.8690 - val_accuracy: 0.8703 - lr: 5.0000e-04\n",
            "Epoch 5/30\n",
            "282/282 [==============================] - ETA: 0s - loss: 0.6117 - accuracy: 0.8756\n",
            "Epoch 5: ReduceLROnPlateau reducing learning rate to 0.0002500000118743628.\n",
            "282/282 [==============================] - 98s 348ms/step - loss: 0.6117 - accuracy: 0.8756 - val_loss: 0.7948 - val_accuracy: 0.8653 - lr: 5.0000e-04\n",
            "Epoch 6/30\n",
            "282/282 [==============================] - 102s 361ms/step - loss: 0.5651 - accuracy: 0.8818 - val_loss: 0.7511 - val_accuracy: 0.8832 - lr: 2.5000e-04\n",
            "Epoch 7/30\n",
            "282/282 [==============================] - ETA: 0s - loss: 0.5443 - accuracy: 0.8918\n",
            "Epoch 7: ReduceLROnPlateau reducing learning rate to 0.0001250000059371814.\n",
            "282/282 [==============================] - 99s 349ms/step - loss: 0.5443 - accuracy: 0.8918 - val_loss: 0.6942 - val_accuracy: 0.8932 - lr: 2.5000e-04\n",
            "Epoch 8/30\n",
            "282/282 [==============================] - 99s 352ms/step - loss: 0.5311 - accuracy: 0.8988 - val_loss: 0.6774 - val_accuracy: 0.8922 - lr: 1.2500e-04\n",
            "Epoch 9/30\n",
            "282/282 [==============================] - ETA: 0s - loss: 0.5075 - accuracy: 0.9047\n",
            "Epoch 9: ReduceLROnPlateau reducing learning rate to 0.0001.\n",
            "282/282 [==============================] - 100s 356ms/step - loss: 0.5075 - accuracy: 0.9047 - val_loss: 0.6803 - val_accuracy: 0.9032 - lr: 1.2500e-04\n",
            "Epoch 10/30\n",
            "282/282 [==============================] - 114s 403ms/step - loss: 0.4999 - accuracy: 0.9108 - val_loss: 0.6803 - val_accuracy: 0.9012 - lr: 1.0000e-04\n",
            "Epoch 11/30\n",
            "282/282 [==============================] - 115s 407ms/step - loss: 0.4877 - accuracy: 0.9139 - val_loss: 0.6910 - val_accuracy: 0.8952 - lr: 1.0000e-04\n",
            "Epoch 12/30\n",
            "282/282 [==============================] - 101s 357ms/step - loss: 0.4776 - accuracy: 0.9159 - val_loss: 0.7692 - val_accuracy: 0.8733 - lr: 1.0000e-04\n",
            "Epoch 13/30\n",
            "282/282 [==============================] - 107s 381ms/step - loss: 0.4790 - accuracy: 0.9141 - val_loss: 0.6804 - val_accuracy: 0.8942 - lr: 1.0000e-04\n",
            "Epoch 14/30\n",
            "282/282 [==============================] - 100s 354ms/step - loss: 0.4660 - accuracy: 0.9189 - val_loss: 0.6777 - val_accuracy: 0.9012 - lr: 1.0000e-04\n",
            "Epoch 15/30\n",
            "282/282 [==============================] - 101s 360ms/step - loss: 0.4570 - accuracy: 0.9207 - val_loss: 0.6945 - val_accuracy: 0.8932 - lr: 1.0000e-04\n",
            "Epoch 16/30\n",
            "282/282 [==============================] - 119s 423ms/step - loss: 0.4442 - accuracy: 0.9240 - val_loss: 0.6856 - val_accuracy: 0.9052 - lr: 1.0000e-04\n",
            "Epoch 17/30\n",
            "282/282 [==============================] - 105s 374ms/step - loss: 0.4436 - accuracy: 0.9282 - val_loss: 0.7640 - val_accuracy: 0.8683 - lr: 1.0000e-04\n",
            "Epoch 18/30\n",
            "282/282 [==============================] - 79s 280ms/step - loss: 0.4270 - accuracy: 0.9291 - val_loss: 0.6818 - val_accuracy: 0.8892 - lr: 1.0000e-04\n",
            "Epoch 19/30\n",
            "282/282 [==============================] - 78s 278ms/step - loss: 0.4120 - accuracy: 0.9331 - val_loss: 0.7032 - val_accuracy: 0.9032 - lr: 1.0000e-04\n",
            "Epoch 20/30\n",
            "282/282 [==============================] - 84s 298ms/step - loss: 0.4131 - accuracy: 0.9338 - val_loss: 0.7310 - val_accuracy: 0.8812 - lr: 1.0000e-04\n",
            "Epoch 21/30\n",
            "282/282 [==============================] - 101s 359ms/step - loss: 0.4000 - accuracy: 0.9372 - val_loss: 0.7184 - val_accuracy: 0.9012 - lr: 1.0000e-04\n",
            "Epoch 22/30\n",
            "282/282 [==============================] - 128s 452ms/step - loss: 0.3888 - accuracy: 0.9433 - val_loss: 0.7325 - val_accuracy: 0.8922 - lr: 1.0000e-04\n",
            "Epoch 23/30\n",
            "282/282 [==============================] - 107s 379ms/step - loss: 0.3702 - accuracy: 0.9445 - val_loss: 0.7383 - val_accuracy: 0.8992 - lr: 1.0000e-04\n",
            "Epoch 24/30\n",
            "282/282 [==============================] - 110s 389ms/step - loss: 0.3705 - accuracy: 0.9482 - val_loss: 0.7132 - val_accuracy: 0.9012 - lr: 1.0000e-04\n",
            "Epoch 25/30\n",
            "282/282 [==============================] - 101s 359ms/step - loss: 0.3547 - accuracy: 0.9482 - val_loss: 0.7296 - val_accuracy: 0.8932 - lr: 1.0000e-04\n",
            "Epoch 26/30\n",
            "282/282 [==============================] - 112s 399ms/step - loss: 0.3409 - accuracy: 0.9517 - val_loss: 0.6946 - val_accuracy: 0.9112 - lr: 1.0000e-04\n",
            "Epoch 27/30\n",
            "282/282 [==============================] - 102s 362ms/step - loss: 0.3366 - accuracy: 0.9545 - val_loss: 0.7258 - val_accuracy: 0.8982 - lr: 1.0000e-04\n",
            "Epoch 28/30\n",
            "282/282 [==============================] - 102s 363ms/step - loss: 0.3109 - accuracy: 0.9596 - val_loss: 0.7066 - val_accuracy: 0.8982 - lr: 1.0000e-04\n",
            "Epoch 29/30\n",
            "282/282 [==============================] - 102s 361ms/step - loss: 0.3106 - accuracy: 0.9604 - val_loss: 0.7315 - val_accuracy: 0.9022 - lr: 1.0000e-04\n",
            "Epoch 30/30\n",
            "282/282 [==============================] - 103s 364ms/step - loss: 0.3013 - accuracy: 0.9622 - val_loss: 0.7192 - val_accuracy: 0.9022 - lr: 1.0000e-04\n"
          ]
        },
        {
          "data": {
            "text/plain": [
              "<keras.callbacks.History at 0x2079a387340>"
            ]
          },
          "execution_count": 26,
          "metadata": {},
          "output_type": "execute_result"
        }
      ],
      "source": [
        "model.fit(xtrain,ytrain,epochs=30,validation_data=(xtest,ytest),callbacks=[reduce_lr,early],class_weight=class_weights)"
      ]
    },
    {
      "cell_type": "code",
      "execution_count": null,
      "metadata": {},
      "outputs": [],
      "source": [
        "model.save(\"my_model.h5\")\n",
        "# loaded_2 = keras.models.load_model(\"my_model\")"
      ]
    },
    {
      "cell_type": "markdown",
      "metadata": {
        "id": "v-sTm885fgz3"
      },
      "source": [
        "# **Evaluation**\n"
      ]
    },
    {
      "cell_type": "code",
      "execution_count": null,
      "metadata": {
        "id": "b0RcCwSstI9U"
      },
      "outputs": [],
      "source": [
        "p.figure(figsize=(15,10))\n",
        "loss=pd.DataFrame(model.history.history)\n",
        "loss[['accuracy','val_accuracy']].plot()"
      ]
    },
    {
      "cell_type": "code",
      "execution_count": null,
      "metadata": {
        "id": "ssWpO0srJldW"
      },
      "outputs": [],
      "source": [
        "p.figure(figsize=(15,10))\n",
        "loss[['loss','val_loss']].plot()"
      ]
    },
    {
      "cell_type": "code",
      "execution_count": null,
      "metadata": {
        "id": "Rb37VRprLlxv"
      },
      "outputs": [],
      "source": [
        "decode={\n",
        "    0:'Actinic keratosis',\n",
        "    1:'Basal cell carcinoma',\n",
        "    2:'Benign keratosis-like lesions',\n",
        "    3:'Dermatofibroma',\n",
        "    4:'Melanocytic nevi',\n",
        "    5:'Melanoma',\n",
        "    6:'Vascular lesion'  \n",
        "}"
      ]
    },
    {
      "cell_type": "code",
      "execution_count": null,
      "metadata": {
        "id": "ta-210noJngc"
      },
      "outputs": [],
      "source": [
        "p.figure(figsize=(10,8))\n",
        "\n",
        "pred=model.predict(xtest)\n",
        "\n",
        "from sklearn.metrics import roc_curve,auc\n",
        "fpr = dict()\n",
        "tpr = dict()\n",
        "roc_auc = dict()\n",
        "for i in range(7):\n",
        "    fpr[i], tpr[i], _ = roc_curve(ytest[:, i], pred[:, i])\n",
        "    roc_auc[i] = auc(fpr[i], tpr[i])\n",
        "\n",
        "for i in range(7):\n",
        "    p.plot(fpr[i],tpr[i],label=decode[i],linewidth=2)\n",
        "p.plot([0, 1], [0, 1], 'k--', lw=2,label='random guess')\n",
        "p.legend(loc=\"lower right\")"
      ]
    },
    {
      "cell_type": "code",
      "execution_count": null,
      "metadata": {
        "id": "bVdsYO7DtN-m"
      },
      "outputs": [],
      "source": [
        "from sklearn.metrics import classification_report,confusion_matrix\n",
        "\n",
        "predictions=model.predict_classes(xtest)\n",
        "\n",
        "check=[]\n",
        "for i in range(len(ytest)):\n",
        "  for j in range(7):\n",
        "    if(ytest[i][j]==1):\n",
        "      check.append(j)\n",
        "check=np.asarray(check)\n",
        "print(classification_report(check,predictions))"
      ]
    },
    {
      "cell_type": "code",
      "execution_count": null,
      "metadata": {},
      "outputs": [],
      "source": [
        "# filename = 'finalized_model.sav'\n",
        "# joblib.dump(model, filename)\n",
        "# import joblib"
      ]
    }
  ],
  "metadata": {
    "accelerator": "GPU",
    "colab": {
      "collapsed_sections": [],
      "include_colab_link": true,
      "name": "HAM28 Final.ipynb",
      "provenance": [],
      "toc_visible": true
    },
    "kernelspec": {
      "display_name": "Python 3",
      "name": "python3"
    },
    "language_info": {
      "codemirror_mode": {
        "name": "ipython",
        "version": 3
      },
      "file_extension": ".py",
      "mimetype": "text/x-python",
      "name": "python",
      "nbconvert_exporter": "python",
      "pygments_lexer": "ipython3",
      "version": "3.9.8"
    }
  },
  "nbformat": 4,
  "nbformat_minor": 0
}
